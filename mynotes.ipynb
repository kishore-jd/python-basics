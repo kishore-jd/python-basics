{
 "cells": [
  {
   "cell_type": "code",
   "execution_count": 1,
   "metadata": {},
   "outputs": [
    {
     "name": "stdout",
     "output_type": "stream",
     "text": [
      "Data Is Sword In 21 century ,those How Wield it Well\n"
     ]
    }
   ],
   "source": [
    "print(\"Data Is Sword In 21 century ,those How Wield it Well\")"
   ]
  },
  {
   "cell_type": "code",
   "execution_count": 2,
   "metadata": {},
   "outputs": [
    {
     "name": "stdout",
     "output_type": "stream",
     "text": [
      "welcome to The Python\n"
     ]
    }
   ],
   "source": [
    "print(\"welcome to The Python\")"
   ]
  },
  {
   "cell_type": "code",
   "execution_count": null,
   "metadata": {},
   "outputs": [],
   "source": [
    "variable: A field To Store The Value Is called variable\n",
    "control Statements:To control the flow of execution of the program.\n",
    "    types\n",
    "    ****\n",
    "    >conditional statements\n",
    "    >loops\n",
    "    >jump statements\n",
    "@@conditional statements @@\n",
    "if you want to execute specific statements "
   ]
  },
  {
   "cell_type": "code",
   "execution_count": 4,
   "metadata": {},
   "outputs": [
    {
     "name": "stdout",
     "output_type": "stream",
     "text": [
      "it is less then 10\n"
     ]
    }
   ],
   "source": [
    "\n",
    "iF example\n",
    "********\n",
    "\n",
    "i=10\n",
    "if  i>9:\n",
    "  print(\"it is less then 10\")"
   ]
  },
  {
   "cell_type": "code",
   "execution_count": 6,
   "metadata": {},
   "outputs": [
    {
     "name": "stdout",
     "output_type": "stream",
     "text": [
      "10\n"
     ]
    }
   ],
   "source": [
    "iF else Example\n",
    "**************\n",
    "i=10\n",
    "j=8\n",
    "if i>j:\n",
    "    print(i)\n",
    "else:\n",
    "    print(j)"
   ]
  },
  {
   "cell_type": "code",
   "execution_count": 22,
   "metadata": {},
   "outputs": [
    {
     "name": "stdout",
     "output_type": "stream",
     "text": [
      "20 is greater\n"
     ]
    }
   ],
   "source": [
    "#if else if\n",
    "#*********\n",
    "i=10\n",
    "j=20\n",
    "if i > j:\n",
    "   print(i ,\"is greater\")\n",
    "elif j > i:\n",
    "   print(j ,\"is greater\")\n",
    "else:\n",
    "   print(i ,\"is equal to\"+j)"
   ]
  },
  {
   "cell_type": "code",
   "execution_count": 6,
   "metadata": {},
   "outputs": [
    {
     "name": "stdout",
     "output_type": "stream",
     "text": [
      "enter you pin1234\n",
      "ok take money\n"
     ]
    }
   ],
   "source": [
    "# atm pi example\n",
    "for i in range(1,4):\n",
    "    pin=int(input(\"enter you pin\"))\n",
    "    if pin == 1234:\n",
    "        print(\"ok take money\")\n",
    "        break\n",
    "else:\n",
    "    print(\"you get out first\")\n",
    "    \n",
    "    "
   ]
  },
  {
   "cell_type": "code",
   "execution_count": null,
   "metadata": {},
   "outputs": [],
   "source": []
  },
  {
   "cell_type": "code",
   "execution_count": null,
   "metadata": {},
   "outputs": [],
   "source": []
  }
 ],
 "metadata": {
  "kernelspec": {
   "display_name": "Python 3",
   "language": "python",
   "name": "python3"
  },
  "language_info": {
   "codemirror_mode": {
    "name": "ipython",
    "version": 3
   },
   "file_extension": ".py",
   "mimetype": "text/x-python",
   "name": "python",
   "nbconvert_exporter": "python",
   "pygments_lexer": "ipython3",
   "version": "3.7.6"
  }
 },
 "nbformat": 4,
 "nbformat_minor": 4
}
